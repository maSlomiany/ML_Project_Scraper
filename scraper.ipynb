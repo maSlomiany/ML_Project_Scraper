{
 "cells": [
  {
   "cell_type": "code",
   "execution_count": 13,
   "metadata": {},
   "outputs": [],
   "source": [
    "import requests\n",
    "import json\n",
    "import os\n",
    "import time\n",
    "import pandas as pd\n",
    "from tqdm import tqdm\n",
    "from newspaper import Article\n",
    "\n",
    "API_KEY = \"f0554c4f7fed288cdee467b475a09285ae83372b\"\n",
    "SEARCH_URL = \"https://google.serper.dev/search\"\n",
    "RESULTS_PER_POLITICIAN = 10\n",
    "CSV_FILE = \"articles.csv\""
   ]
  },
  {
   "cell_type": "code",
   "execution_count": 14,
   "metadata": {},
   "outputs": [
    {
     "name": "stdout",
     "output_type": "stream",
     "text": [
      "['Andrzej Duda', 'Joe Biden', 'Emmanuel Macron', 'Angela Merkel', 'Boris Johnson']\n"
     ]
    }
   ],
   "source": [
    "# Wczytanie listy polityków\n",
    "with open(\"politicians.txt\", \"r\", encoding=\"utf-8\") as f:\n",
    "    politicians = [line.strip() for line in f.readlines()]\n",
    "print(politicians)"
   ]
  },
  {
   "cell_type": "code",
   "execution_count": null,
   "metadata": {},
   "outputs": [],
   "source": [
    "country_language_map = {\n",
    "    \"Poland\": (\"pl\", \"pl\"),          \n",
    "    \"United States\": (\"us\", \"en\"), \n",
    "    \"France\": (\"fr\", \"fr\"),         \n",
    "    \"Germany\": (\"de\", \"de\"),       \n",
    "    \"Spain\": (\"es\", \"es\"),         \n",
    "    \"India\": (\"in\", \"hi\"),         \n",
    "    \"Italy\": (\"it\", \"it\"),         \n",
    "    \"Japan\": (\"jp\", \"ja\"),         \n",
    "    \"Brazil\": (\"br\", \"pt\"),        \n",
    "    \"Russia\": (\"ru\", \"ru\"),        \n",
    "}"
   ]
  },
  {
   "cell_type": "code",
   "execution_count": 16,
   "metadata": {},
   "outputs": [],
   "source": [
    "# Funkcja do pobierania artykułów\n",
    "def search_articles(query, country=\"US\", language=\"en\"):\n",
    "    headers = {\n",
    "        \"X-API-KEY\": API_KEY,\n",
    "        \"Content-Type\": \"application/json\"\n",
    "    }\n",
    "    \n",
    "    payload = {\n",
    "        \"q\": query,\n",
    "        \"num\": RESULTS_PER_POLITICIAN,\n",
    "        \"gl\": country,  # Ustawienie kraju\n",
    "        \"hl\": language  # Ustawienie języka\n",
    "    }\n",
    "    \n",
    "    try:\n",
    "        response = requests.post(SEARCH_URL, headers=headers, data=json.dumps(payload))\n",
    "        response.raise_for_status()\n",
    "        data = response.json()\n",
    "        return [item[\"link\"] for item in data.get(\"organic\", [])]\n",
    "    except requests.exceptions.RequestException:\n",
    "        return []\n",
    "\n"
   ]
  },
  {
   "cell_type": "code",
   "execution_count": 17,
   "metadata": {},
   "outputs": [],
   "source": [
    "# Funkcja do pobierania treści artykułu\n",
    "def fetch_article_content(url):\n",
    "    try:\n",
    "        article = Article(url)\n",
    "        article.download()\n",
    "        article.parse()\n",
    "        return article.text\n",
    "    except Exception:\n",
    "        return \"\""
   ]
  },
  {
   "cell_type": "code",
   "execution_count": 18,
   "metadata": {},
   "outputs": [],
   "source": [
    "# Wczytanie istniejących artykułów, aby uniknąć duplikatów\n",
    "existing_links = set()\n",
    "if os.path.exists(CSV_FILE):\n",
    "    existing_df = pd.read_csv(CSV_FILE, usecols=[\"Article_Link\"])\n",
    "    existing_links = set(existing_df[\"Article_Link\"].tolist())"
   ]
  },
  {
   "cell_type": "code",
   "execution_count": 19,
   "metadata": {},
   "outputs": [
    {
     "name": "stdout",
     "output_type": "stream",
     "text": [
      "{'Andrzej Duda': ' Poland', 'Joe Biden': ' United States', 'Emmanuel Macron': ' France', 'Angela Merkel': ' Germany', 'Boris Johnson': ' United Kingdom'}\n"
     ]
    }
   ],
   "source": [
    "politician_country = {}\n",
    "with open(\"politicians_country.txt\", \"r\", encoding=\"utf-8\") as f:\n",
    "    for line in f:\n",
    "        parts = line.strip().split(\",\")\n",
    "        if len(parts) == 2:  # Sprawdzenie poprawnego formatu\n",
    "            name, country = parts\n",
    "            politician_country[name] = country\n",
    "print(politician_country)  # Sprawdzamy poprawność wczytanych danych"
   ]
  },
  {
   "cell_type": "code",
   "execution_count": null,
   "metadata": {},
   "outputs": [
    {
     "name": "stderr",
     "output_type": "stream",
     "text": [
      "Pobieranie artykułów:   0%|          | 0/5 [00:00<?, ?it/s]"
     ]
    },
    {
     "name": "stdout",
     "output_type": "stream",
     "text": [
      "Przypisano dla Andrzej Duda: Poland, Język: pl\n"
     ]
    },
    {
     "name": "stderr",
     "output_type": "stream",
     "text": [
      "Pobieranie artykułów:  20%|██        | 1/5 [00:04<00:18,  4.65s/it]"
     ]
    },
    {
     "name": "stdout",
     "output_type": "stream",
     "text": [
      "Przypisano dla Joe Biden: United States, Język: en\n"
     ]
    },
    {
     "name": "stderr",
     "output_type": "stream",
     "text": [
      "Pobieranie artykułów:  40%|████      | 2/5 [00:12<00:20,  6.67s/it]"
     ]
    },
    {
     "name": "stdout",
     "output_type": "stream",
     "text": [
      "Przypisano dla Emmanuel Macron: France, Język: fr\n"
     ]
    },
    {
     "name": "stderr",
     "output_type": "stream",
     "text": [
      "Pobieranie artykułów:  60%|██████    | 3/5 [00:21<00:15,  7.52s/it]"
     ]
    },
    {
     "name": "stdout",
     "output_type": "stream",
     "text": [
      "Przypisano dla Angela Merkel: Germany, Język: de\n"
     ]
    },
    {
     "name": "stderr",
     "output_type": "stream",
     "text": [
      "Pobieranie artykułów:  80%|████████  | 4/5 [00:28<00:07,  7.43s/it]"
     ]
    },
    {
     "name": "stdout",
     "output_type": "stream",
     "text": [
      "Przypisano dla Boris Johnson: United Kingdom, Język: en\n"
     ]
    },
    {
     "name": "stderr",
     "output_type": "stream",
     "text": [
      "Pobieranie artykułów: 100%|██████████| 5/5 [00:35<00:00,  7.12s/it]"
     ]
    },
    {
     "name": "stdout",
     "output_type": "stream",
     "text": [
      "Pobieranie zakończone. Wyniki zapisano w 'articles.csv'\n",
      "Poprawnie pobrano: 27 artykułów\n",
      "Nie udało się pobrać: 11 artykułów\n"
     ]
    },
    {
     "name": "stderr",
     "output_type": "stream",
     "text": [
      "\n"
     ]
    }
   ],
   "source": [
    "# Zbieranie danych\n",
    "data = []\n",
    "count_good = 0  \n",
    "count_bad = 0 \n",
    "\n",
    "tqdm_desc = \"Pobieranie artykułów\"\n",
    "for politician in tqdm(politicians, desc=tqdm_desc):\n",
    "    country = politician_country.get(politician, \"\").strip() \n",
    "    language = country_language_map.get(country)\n",
    "\n",
    "    if not country:\n",
    "        print(f\"UWAGA: Brak przypisanego kraju dla {politician}\")\n",
    "        continue  \n",
    "\n",
    "    if not language:\n",
    "        print(f\"UWAGA: Brak przypisanego języka dla kraju '{country}'. Sprawdź country_language_map.\")\n",
    "        print(f\"Możliwe kraje: {list(country_language_map.keys())}\")  # Debugging\n",
    "        continue  \n",
    "    \n",
    "    language = language[1]  # Pobranie kodu języka\n",
    "    print(f\"Przypisano dla {politician}: {country}, Język: {language}\")\n",
    "\n",
    "    articles = search_articles(politician, country, language)\n",
    "    \n",
    "    for link in articles:\n",
    "        if link in existing_links:\n",
    "            continue\n",
    "        \n",
    "        content = fetch_article_content(link)\n",
    "        if content:\n",
    "            data.append({\"Politician\": politician, \"Country\": country, \"Language\": language, \"Article_Link\": link, \"Content\": content})\n",
    "            count_good += 1\n",
    "            existing_links.add(link)  \n",
    "        else:\n",
    "            count_bad += 1\n",
    "\n",
    "    time.sleep(2)  # Oczekiwanie, aby nie przekroczyć limitu API\n",
    "\n",
    "# Jeśli mamy nowe dane to zapis do pliku CSV, tworzenie df\n",
    "if data:\n",
    "    df = pd.DataFrame(data)\n",
    "    df.to_csv(CSV_FILE, mode='a', header=not os.path.exists(CSV_FILE), index=False, encoding=\"utf-8\")\n",
    "    df[\"Article_Link\"] = df[\"Article_Link\"].apply(lambda x: x[:20] + \"...\" if len(x) > 50 else x)\n",
    "    print(f\"Pobieranie zakończone. Wyniki zapisano w '{CSV_FILE}'\")\n",
    "else:\n",
    "    print(\"Brak nowych artykułów do zapisania.\")\n",
    "\n",
    "print(f\"Poprawnie pobrano: {count_good} artykułów\")\n",
    "print(f\"Nie udało się pobrać: {count_bad} artykułów\")\n",
    "\n"
   ]
  }
 ],
 "metadata": {
  "kernelspec": {
   "display_name": ".venv",
   "language": "python",
   "name": "python3"
  },
  "language_info": {
   "codemirror_mode": {
    "name": "ipython",
    "version": 3
   },
   "file_extension": ".py",
   "mimetype": "text/x-python",
   "name": "python",
   "nbconvert_exporter": "python",
   "pygments_lexer": "ipython3",
   "version": "3.13.2"
  }
 },
 "nbformat": 4,
 "nbformat_minor": 2
}
